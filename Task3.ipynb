{
  "cells": [
    {
      "cell_type": "markdown",
      "metadata": {
        "id": "view-in-github",
        "colab_type": "text"
      },
      "source": [
        "<a href=\"https://colab.research.google.com/github/Splav12341/Data-Visualization-Methods/blob/main/Task3.ipynb\" target=\"_parent\"><img src=\"https://colab.research.google.com/assets/colab-badge.svg\" alt=\"Open In Colab\"/></a>"
      ]
    },
    {
      "cell_type": "code",
      "source": [
        "from matplotlib import patches\n",
        "from matplotlib import pyplot as plt"
      ],
      "metadata": {
        "id": "fj_u51JiiEQA"
      },
      "id": "fj_u51JiiEQA",
      "execution_count": null,
      "outputs": []
    },
    {
      "cell_type": "code",
      "source": [
        "!pip install matplotlib python-sat"
      ],
      "metadata": {
        "id": "GL4tpw0diGnY",
        "outputId": "dd5926dc-49ca-443e-b972-f44681c4b7a1",
        "colab": {
          "base_uri": "https://localhost:8080/"
        }
      },
      "id": "GL4tpw0diGnY",
      "execution_count": null,
      "outputs": [
        {
          "output_type": "stream",
          "name": "stdout",
          "text": [
            "Requirement already satisfied: matplotlib in /usr/local/lib/python3.7/dist-packages (3.2.2)\n",
            "Requirement already satisfied: python-sat in /usr/local/lib/python3.7/dist-packages (0.1.7.dev16)\n",
            "Requirement already satisfied: pyparsing!=2.0.4,!=2.1.2,!=2.1.6,>=2.0.1 in /usr/local/lib/python3.7/dist-packages (from matplotlib) (3.0.8)\n",
            "Requirement already satisfied: kiwisolver>=1.0.1 in /usr/local/lib/python3.7/dist-packages (from matplotlib) (1.4.2)\n",
            "Requirement already satisfied: cycler>=0.10 in /usr/local/lib/python3.7/dist-packages (from matplotlib) (0.11.0)\n",
            "Requirement already satisfied: numpy>=1.11 in /usr/local/lib/python3.7/dist-packages (from matplotlib) (1.21.6)\n",
            "Requirement already satisfied: python-dateutil>=2.1 in /usr/local/lib/python3.7/dist-packages (from matplotlib) (2.8.2)\n",
            "Requirement already satisfied: typing-extensions in /usr/local/lib/python3.7/dist-packages (from kiwisolver>=1.0.1->matplotlib) (4.2.0)\n",
            "Requirement already satisfied: six>=1.5 in /usr/local/lib/python3.7/dist-packages (from python-dateutil>=2.1->matplotlib) (1.15.0)\n"
          ]
        }
      ]
    },
    {
      "cell_type": "code",
      "source": [
        "import re\n",
        "from itertools import chain\n",
        "from pysat.solvers import Solver"
      ],
      "metadata": {
        "id": "d4GyuBJHiEs3"
      },
      "id": "d4GyuBJHiEs3",
      "execution_count": null,
      "outputs": []
    },
    {
      "cell_type": "code",
      "execution_count": null,
      "id": "bf1ce4c5",
      "metadata": {
        "id": "bf1ce4c5"
      },
      "outputs": [],
      "source": [
        "data_1 = \"\"\"65,144\t19,46\t0,0 19,0 0,46 19,46\n",
        "64,104\t16,14\t0,0 16,0 0,14 16,14\n",
        "78,8\t48,29\t0,0 16,0 32,0 48,0 0,29 16,29 32,29 48,29\n",
        "125,167\t15,10\t0,0 15,0 0,10 15,10\n",
        "198,27\t39,15\t0,0 39,0 0,5 39,5 0,10 39,10 0,15 39,15\n",
        "91,136\t56,32\t0,0 56,0 0,16 56,16 0,32 56,32\n",
        "40,72\t26,26\t0,0 26,0 0,26 26,26\n",
        "198,75\t11,34\t0,0 11,0 0,34 11,34\n",
        "132,193\t46,10\t0,0 46,0 0,10 46,10\n",
        "66,187\t26,30\t0,0 26,0 0,30 26,30\n",
        "60,122\t33,10\t0,0 11,0 22,0 33,0 0,10 11,10 22,10 33,10\n",
        "178,92\t31,28\t0,0 31,0 0,28 31,28\n",
        "94,171\t10,17\t0,0 5,0 10,0 0,17 5,17 10,17\n",
        "148,145\t14,39\t0,0 14,0 0,39 14,39\n",
        "58,59\t23,22\t0,0 23,0 0,22 23,22\n",
        "15,29\t12,38\t0,0 4,0 8,0 12,0 0,38 4,38 8,38 12,38\n",
        "131,26\t12,31\t0,0 12,0 0,31 12,31\n",
        "171,184\t19,18\t0,0 19,0 0,9 19,9 0,18 19,18\n",
        "111,57\t21,11\t0,0 21,0 0,11 21,11\n",
        "47,10\t18,19\t0,0 9,0 18,0 0,19 9,19 18,19\n",
        "168,61\t12,21\t0,0 12,0 0,21 12,21\n",
        "90,106\t24,20\t0,0 24,0 0,20 24,20\n",
        "26,127\t22,44\t0,0 11,0 22,0 0,44 11,44 22,44\n",
        "125,59\t14,19\t0,0 7,0 14,0 0,19 7,19 14,19\n",
        "127,98\t48,17\t0,0 16,0 32,0 48,0 0,17 16,17 32,17 48,17\n",
        "195,155\t23,28\t0,0 23,0 0,28 23,28\n",
        "99,91\t20,26\t0,0 20,0 0,26 20,26\n",
        "64,202\t35,11\t0,0 35,0 0,11 35,11\"\"\""
      ]
    },
    {
      "cell_type": "code",
      "execution_count": null,
      "id": "9aa03337",
      "metadata": {
        "id": "9aa03337"
      },
      "outputs": [],
      "source": [
        "data_2 = \"\"\"58,167\t41,14\t0,0 41,0 0,14 41,14\n",
        "20,126\t15,38\t0,0 15,0 0,38 15,38\n",
        "120,101\t48,12\t0,0 16,0 32,0 48,0 0,4 16,4 32,4 48,4 0,8 16,8 32,8 48,8 0,12 16,12 32,12 48,12\n",
        "155,51\t14,19\t0,0 14,0 0,19 14,19\n",
        "184,111\t19,14\t0,0 19,0 0,14 19,14\n",
        "153,170\t50,33\t0,0 25,0 50,0 0,33 25,33 50,33\n",
        "38,114\t29,29\t0,0 29,0 0,29 29,29\n",
        "37,21\t17,48\t0,0 17,0 0,24 17,24 0,48 17,48\n",
        "64,109\t45,17\t0,0 45,0 0,17 45,17\n",
        "99,182\t28,26\t0,0 28,0 0,26 28,26\n",
        "164,71\t36,34\t0,0 18,0 36,0 0,17 18,17 36,17 0,34 18,34 36,34\n",
        "76,38\t24,19\t0,0 8,0 16,0 24,0 0,19 8,19 16,19 24,19\n",
        "88,20\t23,46\t0,0 23,0 0,46 23,46\n",
        "132,67\t23,28\t0,0 23,0 0,28 23,28\n",
        "190,151\t13,48\t0,0 13,0 0,16 13,16 0,32 13,32 0,48 13,48\n",
        "101,169\t39,25\t0,0 39,0 0,25 39,25\n",
        "189,33\t15,14\t0,0 3,0 6,0 9,0 12,0 15,0 0,14 3,14 6,14 9,14 12,14 15,14\n",
        "51,191\t32,15\t0,0 32,0 0,5 32,5 0,10 32,10 0,15 32,15\n",
        "189,166\t31,18\t0,0 31,0 0,18 31,18\n",
        "147,128\t21,11\t0,0 7,0 14,0 21,0 0,11 7,11 14,11 21,11\n",
        "142,81\t15,14\t0,0 3,0 6,0 9,0 12,0 15,0 0,7 3,7 6,7 9,7 12,7 15,7 0,14 3,14 6,14 9,14 12,14 15,14\n",
        "44,75\t11,12\t0,0 11,0 0,12 11,12\n",
        "72,88\t21,47\t0,0 21,0 0,47 21,47\n",
        "76,65\t12,11\t0,0 12,0 0,11 12,11\n",
        "108,83\t13,15\t0,0 13,0 0,5 13,5 0,10 13,10 0,15 13,15\n",
        "53,59\t13,33\t0,0 13,0 0,33 13,33\n",
        "88,185\t12,11\t0,0 12,0 0,11 12,11\n",
        "121,28\t12,10\t0,0 12,0 0,5 12,5 0,10 12,10\n",
        "144,21\t30,13\t0,0 15,0 30,0 0,13 15,13 30,13\"\"\""
      ]
    },
    {
      "cell_type": "code",
      "execution_count": null,
      "id": "1e402943",
      "metadata": {
        "id": "1e402943"
      },
      "outputs": [],
      "source": [
        "data_3 = \"\"\"97,148\t59,25\t0,0 59,0 0,25 59,25\n",
        "49,75\t36,46\t0,0 36,0 0,46 36,46\n",
        "61,15\t24,20\t0,0 24,0 0,10 24,10 0,20 24,20\n",
        "141,166\t10,31\t0,0 5,0 10,0 0,31 5,31 10,31\n",
        "137,34\t42,42\t0,0 42,0 0,21 42,21 0,42 42,42\n",
        "121,92\t36,21\t0,0 36,0 0,21 36,21\n",
        "172,117\t21,19\t0,0 21,0 0,19 21,19\n",
        "137,122\t54,30\t0,0 54,0 0,15 54,15 0,30 54,30\n",
        "99,161\t19,22\t0,0 19,0 0,22 19,22\n",
        "87,20\t24,25\t0,0 8,0 16,0 24,0 0,25 8,25 16,25 24,25\n",
        "134,161\t49,18\t0,0 49,0 0,18 49,18\n",
        "84,187\t38,13\t0,0 19,0 38,0 0,13 19,13 38,13\n",
        "76,141\t57,18\t0,0 57,0 0,18 57,18\n",
        "111,15\t15,45\t0,0 5,0 10,0 15,0 0,45 5,45 10,45 15,45\n",
        "189,162\t30,19\t0,0 10,0 20,0 30,0 0,19 10,19 20,19 30,19\n",
        "181,6\t28,26\t0,0 14,0 28,0 0,26 14,26 28,26\n",
        "20,147\t24,17\t0,0 8,0 16,0 24,0 0,17 8,17 16,17 24,17\n",
        "57,53\t31,15\t0,0 31,0 0,15 31,15\n",
        "203,138\t15,20\t0,0 15,0 0,20 15,20\n",
        "39,179\t14,25\t0,0 14,0 0,25 14,25\n",
        "185,65\t16,42\t0,0 16,0 0,42 16,42\n",
        "71,97\t12,47\t0,0 12,0 0,47 12,47\"\"\""
      ]
    },
    {
      "cell_type": "markdown",
      "id": "bce1a242",
      "metadata": {
        "id": "bce1a242"
      },
      "source": [
        "# Parsing data"
      ]
    },
    {
      "cell_type": "code",
      "execution_count": null,
      "id": "a6d28581",
      "metadata": {
        "id": "a6d28581"
      },
      "outputs": [],
      "source": [
        "def parse_data(data):\n",
        "    tmp = 1\n",
        "    num_points = list()\n",
        "    for l in data.strip().split('\\n'):\n",
        "\n",
        "        coords, sizes_rect, offsets = re.split(r\"\\s+\", l, maxsplit=2)\n",
        "        x, y = parse_coords(coords)\n",
        "        point = {(x, y): []}\n",
        "        w, h = parse_coords(sizes_rect)\n",
        "        \n",
        "        parsed_coords = (parse_coords(offset) for offset in offsets.split(\" \"))\n",
        "        for x_offset, y_offset in parsed_coords:\n",
        "            x_rect = x - x_offset\n",
        "            y_rect = y - y_offset\n",
        "            if ((y_rect + h) > 450 or (x_rect + w) > 450):\n",
        "                continue\n",
        "            if (y_rect < 0 or x_rect < 0):\n",
        "                continue\n",
        "            point[(x, y)].append((x_rect, y_rect, w, h, tmp))\n",
        "            tmp = tmp + 1\n",
        "        num_points.append(point)\n",
        "    return num_points"
      ]
    },
    {
      "cell_type": "code",
      "execution_count": null,
      "id": "52bba681",
      "metadata": {
        "id": "52bba681"
      },
      "outputs": [],
      "source": [
        "def parse_coords(offset):\n",
        "    tmp = map(int, offset.split(\",\"))\n",
        "    x, y = tuple(tmp)\n",
        "    return (x, y)"
      ]
    },
    {
      "cell_type": "markdown",
      "id": "29488538",
      "metadata": {
        "id": "29488538"
      },
      "source": [
        "# Drawing data"
      ]
    },
    {
      "cell_type": "code",
      "execution_count": null,
      "id": "38b9c0ee",
      "metadata": {
        "id": "38b9c0ee"
      },
      "outputs": [],
      "source": [
        "def intersected(rect1, rect2):\n",
        "    if rect1[0] >= rect2[0]:\n",
        "        rect_left, rect_right = rect2, rect1\n",
        "    else:\n",
        "        rect_left, rect_right = rect1, rect2\n",
        "\n",
        "    if rect1[1] >= rect2[1]:\n",
        "        rect_up, rect_down = rect2, rect1\n",
        "    else:\n",
        "        rect_up, rect_down = rect1, rect2\n",
        "\n",
        "    if rect_left[0] <= rect_right[0] <= rect_left[0] + rect_left[2] and rect_up[1] <= rect_down[1] <= rect_up[1] + rect_up[3]:\n",
        "        return True\n",
        "    return False"
      ]
    },
    {
      "cell_type": "code",
      "execution_count": null,
      "id": "d2e76d78",
      "metadata": {
        "id": "d2e76d78"
      },
      "outputs": [],
      "source": [
        "def confl(rects):\n",
        "    conflicted = {}\n",
        "    for rect1 in rects:\n",
        "        for rect2 in rects:\n",
        "            if rect1[4] == rect2[4]:\n",
        "                continue\n",
        "\n",
        "            if intersected(rect1, rect2):\n",
        "                if rect1[4] in conflicted:\n",
        "                    pass\n",
        "                else:\n",
        "                    conflicted[rect1[4]] = set()\n",
        "                conflicted[rect1[4]].add(rect2[4])\n",
        "    return conflicted"
      ]
    },
    {
      "cell_type": "code",
      "source": [
        "def flatt(lst):\n",
        "    for i in range(2):\n",
        "        lst = list(chain.from_iterable(lst))\n",
        "    return lst"
      ],
      "metadata": {
        "id": "B2XMnug3o1nX"
      },
      "id": "B2XMnug3o1nX",
      "execution_count": null,
      "outputs": []
    },
    {
      "cell_type": "code",
      "execution_count": null,
      "id": "c2f76fbb",
      "metadata": {
        "id": "c2f76fbb"
      },
      "outputs": [],
      "source": [
        "def layers_of_rects(points):\n",
        "    tmp = [list(point.values()) for point in points]\n",
        "    for i in range(2):\n",
        "        tmp = list(chain.from_iterable(tmp))\n",
        "    rects = tmp\n",
        "\n",
        "    dict_rects = dict()\n",
        "    for rect in rects:\n",
        "        dict_rects[rect[4]] = rect\n",
        "\n",
        "    conflicts = confl(rects)\n",
        "\n",
        "    with Solver(name=\"mc\") as solver:\n",
        "        for point in points:\n",
        "            tmp_rects = []\n",
        "            for rect in next(iter(point.values())):\n",
        "                tmp_rects.append(rect[4])\n",
        "            solver.add_clause(tmp_rects)\n",
        "            solver.add_atmost(tmp_rects, 1)\n",
        "\n",
        "        for rect in rects:\n",
        "            if rect[4] in conflicts:\n",
        "                for confId in conflicts[rect[4]]:\n",
        "                    solver.add_clause([-rect[4], -confId])\n",
        "\n",
        "        if solver.solve():\n",
        "            id = solver.get_model()\n",
        "\n",
        "            lst = []\n",
        "            for idx in id:\n",
        "                if idx > 0:\n",
        "                    lst.append(dict_rects[idx])\n",
        "            return lst\n",
        "        else:\n",
        "            raise Exception(\"smth went wrong\")"
      ]
    },
    {
      "cell_type": "code",
      "execution_count": null,
      "id": "e673099f",
      "metadata": {
        "id": "e673099f"
      },
      "outputs": [],
      "source": [
        "def plotting(label, rects, points):\n",
        "    fig, ax = plt.subplots(figsize=(16, 10))\n",
        "    x = []\n",
        "    y = []\n",
        "    for point in points:\n",
        "        x.append(point[0])\n",
        "        y.append(point[1])\n",
        "    \n",
        "    ax.set_title(label)\n",
        "    ax.scatter(x, y, color='red')\n",
        "    real_rects = []\n",
        "    for i, rect in enumerate(rects):\n",
        "        real_rects.append(patches.Rectangle(xy=(rect[0], rect[1]), width=rect[2], height=rect[3], alpha=0.7))\n",
        "\n",
        "    for real_rect in real_rects:\n",
        "        ax.add_patch(real_rect)\n",
        "    plt.show()"
      ]
    },
    {
      "cell_type": "markdown",
      "id": "d647367c",
      "metadata": {
        "id": "d647367c"
      },
      "source": [
        "# Examples"
      ]
    },
    {
      "cell_type": "code",
      "execution_count": null,
      "id": "fcd1f06b",
      "metadata": {
        "id": "fcd1f06b",
        "outputId": "112114ff-e9c5-4866-94b4-dc96441577a3",
        "colab": {
          "base_uri": "https://localhost:8080/",
          "height": 607
        }
      },
      "outputs": [
        {
          "output_type": "display_data",
          "data": {
            "text/plain": [
              "<Figure size 1152x720 with 1 Axes>"
            ],
            "image/png": "[encoded data removed]"
          },
          "metadata": {
            "needs_background": "light"
          }
        }
      ],
      "source": [
        "points = parse_data(data_1)\n",
        "rects = layers_of_rects(points)\n",
        "\n",
        "lst = []\n",
        "for point in points:\n",
        "    lst.append(next(iter(point.keys())))\n",
        "\n",
        "plotting(\"data_1\", rects, lst)"
      ]
    },
    {
      "cell_type": "code",
      "execution_count": null,
      "id": "ce074418",
      "metadata": {
        "id": "ce074418",
        "outputId": "ae71f963-7307-4faa-be70-b9a04f14da72",
        "colab": {
          "base_uri": "https://localhost:8080/",
          "height": 607
        }
      },
      "outputs": [
        {
          "output_type": "display_data",
          "data": {
            "text/plain": [
              "<Figure size 1152x720 with 1 Axes>"
            ],
            "image/png": "[encoded data removed]"
          },
          "metadata": {
            "needs_background": "light"
          }
        }
      ],
      "source": [
        "points = parse_data(data_2)\n",
        "rects = layers_of_rects(points)\n",
        "\n",
        "lst = []\n",
        "for point in points:\n",
        "    lst.append(next(iter(point.keys())))\n",
        "\n",
        "plotting(\"data_2\", rects, lst)"
      ]
    },
    {
      "cell_type": "code",
      "execution_count": null,
      "id": "dd84af08",
      "metadata": {
        "id": "dd84af08",
        "outputId": "05d33f4e-de46-4ad4-b4a6-178c833af967",
        "colab": {
          "base_uri": "https://localhost:8080/",
          "height": 607
        }
      },
      "outputs": [
        {
          "output_type": "display_data",
          "data": {
            "text/plain": [
              "<Figure size 1152x720 with 1 Axes>"
            ],
            "image/png": "[encoded data removed]"
          },
          "metadata": {
            "needs_background": "light"
          }
        }
      ],
      "source": [
        "points = parse_data(data_3)\n",
        "rects = layers_of_rects(points)\n",
        "\n",
        "lst = []\n",
        "for point in points:\n",
        "    lst.append(next(iter(point.keys())))\n",
        "\n",
        "plotting(\"data_3\", rects, lst)"
      ]
    }
  ],
  "metadata": {
    "kernelspec": {
      "display_name": "Python 3",
      "language": "python",
      "name": "python3"
    },
    "language_info": {
      "codemirror_mode": {
        "name": "ipython",
        "version": 3
      },
      "file_extension": ".py",
      "mimetype": "text/x-python",
      "name": "python",
      "nbconvert_exporter": "python",
      "pygments_lexer": "ipython3",
      "version": "3.8.5"
    },
    "colab": {
      "name": "Task3.ipynb",
      "provenance": [],
      "include_colab_link": true
    }
  },
  "nbformat": 4,
  "nbformat_minor": 5
}